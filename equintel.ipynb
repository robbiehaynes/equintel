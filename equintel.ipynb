{
 "cells": [
  {
   "cell_type": "code",
   "execution_count": 8,
   "id": "862624d3",
   "metadata": {},
   "outputs": [],
   "source": [
    "from dotenv import load_dotenv\n",
    "import os\n",
    "import json\n",
    "import requests\n",
    "import pandas as pd"
   ]
  },
  {
   "cell_type": "code",
   "execution_count": 5,
   "id": "e20f660f",
   "metadata": {},
   "outputs": [],
   "source": [
    "load_dotenv()\n",
    "\n",
    "auth = (os.getenv(\"API_USER\"), os.getenv(\"API_PASS\"))"
   ]
  },
  {
   "cell_type": "code",
   "execution_count": null,
   "id": "f01365dc",
   "metadata": {},
   "outputs": [],
   "source": [
    "# Set up the authentication\n",
    "auth = (os.getenv(\"USERNAME\"), os.getenv(\"PASSWORD\"))\n",
    "\n",
    "# params={\"region_codes\": \"gb\",\n",
    "#         \"day\":\"today\"}\n",
    "\n",
    "params={\"day\":\"today\"}\n",
    "\n",
    "# Make the request\n",
    "response = requests.get(os.getenv(\"API_URL\"), auth=auth, params=params)\n",
    "\n",
    "# Raise an exception if the request was unsuccessful\n",
    "response.raise_for_status()\n",
    "\n",
    "response"
   ]
  },
  {
   "cell_type": "code",
   "execution_count": null,
   "id": "da38b8dc",
   "metadata": {},
   "outputs": [],
   "source": [
    "response.json()"
   ]
  },
  {
   "cell_type": "code",
   "execution_count": null,
   "id": "a989d07e",
   "metadata": {},
   "outputs": [],
   "source": [
    "import pandas as pd\n",
    "\n",
    "total_df = pd.DataFrame()\n",
    "\n",
    "for racecard in response.json()[\"racecards\"]:\n",
    "    racecard_df = pd.DataFrame.from_dict(racecard)\n",
    "\n",
    "    runners_flat = pd.json_normalize(racecard_df['runners'])\n",
    "    runners_flat.rename(columns={\"region\":\"horse_region\"}, inplace=True)\n",
    "\n",
    "    df_final = pd.concat([racecard_df.copy().drop(columns=['runners']), runners_flat], axis=1)\n",
    "\n",
    "    df_final = df_final[[\n",
    "        'race_id', 'course_id', 'off_dt', 'distance_f',\n",
    "        'region', 'type', 'age_band', 'field_size', 'weather', 'going',\n",
    "        'surface', 'big_race', 'is_abandoned', \n",
    "        # Plus runner details if merged\n",
    "        'horse_id', 'horse', 'age', 'sex_code', 'horse_region',\n",
    "        'dam_id', 'sire_id', 'damsire_id', 'trainer_id', 'owner_id',\n",
    "        'lbs', 'form', 'jockey_id'\n",
    "    ]]\n",
    "\n",
    "    df_final[\"is_abandoned\"] = df_final[\"is_abandoned\"].astype(int)\n",
    "    df_final[\"going_soft\"] = (df_final[\"going\"].str.lower() == \"soft\").astype(int)\n",
    "    df_final[\"going_good\"] = (df_final[\"going\"].str.lower() == \"good\").astype(int)\n",
    "    df_final.drop(columns=['going'], inplace=True)\n",
    "\n",
    "    # Append to the total DataFrame\n",
    "    total_df = pd.concat([total_df, df_final], ignore_index=True)"
   ]
  },
  {
   "cell_type": "code",
   "execution_count": null,
   "id": "c6caf264",
   "metadata": {},
   "outputs": [],
   "source": [
    "total_df.to_csv(\"total_df.csv\", index=False)"
   ]
  },
  {
   "cell_type": "markdown",
   "id": "543d7afa",
   "metadata": {},
   "source": [
    "# Fetch Results"
   ]
  },
  {
   "cell_type": "code",
   "execution_count": 6,
   "id": "4ff94fdc",
   "metadata": {},
   "outputs": [
    {
     "data": {
      "text/plain": [
       "<Response [200]>"
      ]
     },
     "execution_count": 6,
     "metadata": {},
     "output_type": "execute_result"
    }
   ],
   "source": [
    "# Make the request\n",
    "results_response = requests.get(os.getenv(\"API_RES_URL\"), auth=auth)\n",
    "\n",
    "# Raise an exception if the request was unsuccessful\n",
    "results_response.raise_for_status()\n",
    "\n",
    "results_response"
   ]
  },
  {
   "cell_type": "code",
   "execution_count": null,
   "id": "fecb9d78",
   "metadata": {},
   "outputs": [],
   "source": [
    "results_response.json()"
   ]
  },
  {
   "cell_type": "code",
   "execution_count": 13,
   "id": "edefe1e8",
   "metadata": {},
   "outputs": [],
   "source": [
    "final_results = pd.DataFrame()\n",
    "\n",
    "for result in results_response.json()['results']:\n",
    "    results_df = pd.DataFrame([\n",
    "        {\n",
    "            'race_id': result['race_id'],\n",
    "            'horse_id': runner['horse_id'],\n",
    "            'position': runner['position'],\n",
    "            'draw': runner['draw']\n",
    "        }\n",
    "        for runner in result['runners']\n",
    "    ])\n",
    "\n",
    "    results_df['position'] = pd.to_numeric(results_df['position'], errors='coerce')\n",
    "    results_df['draw'] = pd.to_numeric(results_df['draw'], errors='coerce')\n",
    "\n",
    "    final_results = pd.concat([final_results, results_df], ignore_index=True)"
   ]
  },
  {
   "cell_type": "code",
   "execution_count": 26,
   "id": "13f2828d",
   "metadata": {},
   "outputs": [
    {
     "data": {
      "text/plain": [
       "race_id      object\n",
       "horse_id     object\n",
       "position    float64\n",
       "draw        float64\n",
       "dtype: object"
      ]
     },
     "execution_count": 26,
     "metadata": {},
     "output_type": "execute_result"
    }
   ],
   "source": [
    "# Replace NaN values with None for Supabase compatibility\n",
    "final_results = final_results.fillna(0)\n",
    "\n",
    "final_results.to_pickle(\"output/results.pkl\")\n",
    "\n",
    "final_results.dtypes"
   ]
  },
  {
   "cell_type": "markdown",
   "id": "307b155c",
   "metadata": {},
   "source": [
    "# Model Training Preparation"
   ]
  },
  {
   "cell_type": "code",
   "execution_count": null,
   "id": "d11e2909",
   "metadata": {},
   "outputs": [],
   "source": [
    "# Drop ID columns for training data\n",
    "training_df = total_df.drop(columns=['race_id', 'course_id', 'horse_id', 'horse', 'dam_id', 'sire_id', 'damsire_id', 'trainer_id', 'owner_id', 'jockey_id'])\n",
    "training_df = training_df[training_df['is_abandoned'] == 0]\n",
    "training_df = training_df.drop(columns=['off_dt','big_race', 'is_abandoned'])\n",
    "\n",
    "# Convert age_band to minimum age\n",
    "training_df['age_band'] = training_df['age_band'].str.extract(r'(\\d+)')\n",
    "training_df.rename(columns={'age_band': 'min_age'}, inplace=True)\n",
    "\n",
    "# Convert horse_region to horse_is_local\n",
    "training_df['horse_is_local'] = (training_df['horse_region'] == training_df['region']).astype(int)\n",
    "training_df.drop(columns=['horse_region'], inplace=True)\n",
    "\n",
    "# Convert numeric columns\n",
    "training_df['distance_f'] = pd.to_numeric(training_df['distance_f'], errors='coerce')\n",
    "training_df['age'] = pd.to_numeric(training_df['age'], errors='coerce')\n",
    "training_df['lbs'] = pd.to_numeric(training_df['lbs'], errors='coerce')\n",
    "training_df['field_size'] = pd.to_numeric(training_df['field_size'], errors='coerce')\n",
    "training_df['min_age'] = pd.to_numeric(training_df['min_age'], errors='coerce')\n",
    "\n",
    "# Label encode sex_code, surface, weather, and type\n",
    "from sklearn.preprocessing import LabelEncoder\n",
    "\n",
    "label_encoder = LabelEncoder()\n",
    "for col in ['sex_code', 'surface', 'weather', 'type']:\n",
    "    training_df[col] = label_encoder.fit_transform(training_df[col].astype(str))\n",
    "\n",
    "# Encode categorical variables\n",
    "training_df = pd.get_dummies(training_df, columns=['region'], drop_first=True)\n",
    "\n",
    "training_df.head()"
   ]
  },
  {
   "cell_type": "code",
   "execution_count": null,
   "id": "e8f49b4c",
   "metadata": {},
   "outputs": [],
   "source": [
    "# Convert form into a score \n",
    "\n",
    "import numpy as np\n",
    "\n",
    "def form_to_score(form):\n",
    "    if not isinstance(form, str) or form.strip() == \"\":\n",
    "        return np.nan\n",
    "    \n",
    "    points = []\n",
    "    max_points = 8  # 1st place worth 8 points\n",
    "\n",
    "    # Weights (most recent = higher weight)\n",
    "    weights = [1.5, 1.2, 1.0, 0.8, 0.6]  # for up to 5 runs\n",
    "    \n",
    "    for i, ch in enumerate(form[:5]):  # consider last 5 runs max\n",
    "        if ch.isdigit():\n",
    "            pos = int(ch)\n",
    "            # score for position (1st=5, 2nd=4, etc.)\n",
    "            score = max(0, max_points - (pos - 1))\n",
    "            # apply weighting\n",
    "            weight = weights[i] if i < len(weights) else 0.5\n",
    "            points.append(score * weight)\n",
    "        # Handle special cases (e.g., P, F, U)\n",
    "        elif ch.upper() in ['P','F','U']:\n",
    "            points.append(0)  # treat as no score\n",
    "\n",
    "    if not points:\n",
    "        return np.nan\n",
    "    \n",
    "    # Normalize: divide by (max possible for count of runs considered)\n",
    "    max_possible = max_points * sum(weights[:len(points)])\n",
    "    return sum(points) / max_possible\n"
   ]
  },
  {
   "cell_type": "code",
   "execution_count": null,
   "id": "b27855e7",
   "metadata": {},
   "outputs": [],
   "source": [
    "training_df['form_score'] = training_df['form'].apply(form_to_score)\n",
    "training_df.drop(columns=['form'], inplace=True)"
   ]
  }
 ],
 "metadata": {
  "kernelspec": {
   "display_name": "equintel (3.9.6)",
   "language": "python",
   "name": "python3"
  },
  "language_info": {
   "codemirror_mode": {
    "name": "ipython",
    "version": 3
   },
   "file_extension": ".py",
   "mimetype": "text/x-python",
   "name": "python",
   "nbconvert_exporter": "python",
   "pygments_lexer": "ipython3",
   "version": "3.9.6"
  }
 },
 "nbformat": 4,
 "nbformat_minor": 5
}
